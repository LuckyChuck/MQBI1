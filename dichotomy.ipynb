{
 "cells": [
  {
   "cell_type": "code",
   "execution_count": 1,
   "metadata": {},
   "outputs": [
    {
     "name": "stdout",
     "output_type": "stream",
     "text": [
      "二分法计算结果:3.162277660187101 math函数计算结果：3.1622776601683795\n"
     ]
    }
   ],
   "source": [
    "import math\n",
    "const = 1e-10\n",
    "def sqrt10():\n",
    "    low,high = 3,4\n",
    "    mid = (low+high)/2\n",
    "    while high - low > const:\n",
    "        if mid * mid > 10:\n",
    "            high = mid\n",
    "        else:\n",
    "            low = mid\n",
    "        mid = (low+high)/2\n",
    "    return mid\n",
    "\n",
    "print(\"二分法计算结果:\"+ str(sqrt10()),\"math函数计算结果：\"+str(math.sqrt(10)))"
   ]
  },
  {
   "cell_type": "code",
   "execution_count": null,
   "metadata": {},
   "outputs": [],
   "source": []
  }
 ],
 "metadata": {
  "kernelspec": {
   "display_name": "Python 3",
   "language": "python",
   "name": "python3"
  },
  "language_info": {
   "codemirror_mode": {
    "name": "ipython",
    "version": 3
   },
   "file_extension": ".py",
   "mimetype": "text/x-python",
   "name": "python",
   "nbconvert_exporter": "python",
   "pygments_lexer": "ipython3",
   "version": "3.7.0"
  }
 },
 "nbformat": 4,
 "nbformat_minor": 2
}
